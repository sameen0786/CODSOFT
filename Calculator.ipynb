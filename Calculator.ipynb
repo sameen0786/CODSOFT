{
 "cells": [
  {
   "cell_type": "code",
   "execution_count": 1,
   "id": "a58f82e9-f5a3-43eb-b9a0-bc586cbd2360",
   "metadata": {},
   "outputs": [
    {
     "name": "stdout",
     "output_type": "stream",
     "text": [
      "please enter the option-\n",
      "1. add\n",
      "2. sub\n",
      "3. multiply\n",
      "4. div\n",
      "\n"
     ]
    },
    {
     "name": "stdin",
     "output_type": "stream",
     "text": [
      "select operation from 1,2,3,4: 1\n",
      "enter first number: 23\n",
      "enter second number: 56\n"
     ]
    },
    {
     "name": "stdout",
     "output_type": "stream",
     "text": [
      "23 + 56 = 79\n"
     ]
    }
   ],
   "source": [
    "def add (n1,n2):\n",
    "    return n1+n2\n",
    "def sub(n1,n2):\n",
    "    return n1-n2\n",
    "def multiply(n1,n2):\n",
    "    return n1*n2\n",
    "def div(n1,n2):\n",
    "    return n1/n2\n",
    "print(\"please enter the option-\\n\" \\\n",
    "    \"1. add\\n\"\\\n",
    "    \"2. sub\\n\"\\\n",
    "    \"3. multiply\\n\"\\\n",
    "    \"4. div\\n\")\n",
    "option=int(input(\"select operation from 1,2,3,4:\"))\n",
    "num_1=int(input(\"enter first number:\"))\n",
    "num_2=int(input(\"enter second number:\"))\n",
    "if option==1:\n",
    "    print(num_1,\"+\",num_2,\"=\",add(num_1,num_2))\n",
    "elif option==2:\n",
    "    print(num_1,\"-\",num_2,\"=\",sub(num_1,num_2))\n",
    "elif option==3:\n",
    "    print(num_1,\"*\",num_2,\"=\",multiply(num_1,num_2))\n",
    "elif option==4:\n",
    "    print(num_1,\"/\",num_2,\"=\",div(num_1,num_2))\n",
    "else:\n",
    "    print(\"invalid option\")"
   ]
  },
  {
   "cell_type": "code",
   "execution_count": null,
   "id": "17471399-67f4-4971-9833-fbafd1cd4ab2",
   "metadata": {},
   "outputs": [],
   "source": []
  }
 ],
 "metadata": {
  "kernelspec": {
   "display_name": "Python 3 (ipykernel)",
   "language": "python",
   "name": "python3"
  },
  "language_info": {
   "codemirror_mode": {
    "name": "ipython",
    "version": 3
   },
   "file_extension": ".py",
   "mimetype": "text/x-python",
   "name": "python",
   "nbconvert_exporter": "python",
   "pygments_lexer": "ipython3",
   "version": "3.12.4"
  }
 },
 "nbformat": 4,
 "nbformat_minor": 5
}
