{
 "cells": [
  {
   "cell_type": "code",
   "execution_count": null,
   "id": "50349df7-479c-42fa-8385-bc5e70cb24ed",
   "metadata": {},
   "outputs": [],
   "source": [
    "import string\n",
    "import random\n",
    "\n",
    "length = int(input(\"Enter password length:\"))\n",
    "print('''choose chgaracter set for password from these :\n",
    "         1. digits\n",
    "         2. letters\n",
    "         3. special characters\n",
    "         4. Exit''')\n",
    "characterList = \"\"\n",
    "\n",
    "while(True):\n",
    "    choice = int(input(\"pick a number \"))\n",
    "    if(choice == 1):\n",
    "      \n",
    "        characterList += string.ascii_letters\n",
    "    elif(choice == 2):\n",
    "       \n",
    "        characterList += string.digits\n",
    "    elif(choice == 3):\n",
    "       \n",
    "        characterList += string.punctuation\n",
    "    elif(choice == 4):\n",
    "        break\n",
    "    else:\n",
    "        print(\"Please Pick a valid option!\")\n",
    "    password = []\n",
    "    for i in range(length):\n",
    "       \n",
    "        randomchar = random.choice(characterList)\n",
    "       \n",
    "        password.append(randomchar)\n",
    "   \n",
    "    print(\"The random password is \" + \"\".join(password))"
   ]
  },
  {
   "cell_type": "code",
   "execution_count": null,
   "id": "5bf7524f-1f46-44d8-b0d8-39c86dd2de7f",
   "metadata": {},
   "outputs": [],
   "source": []
  }
 ],
 "metadata": {
  "kernelspec": {
   "display_name": "Python 3 (ipykernel)",
   "language": "python",
   "name": "python3"
  },
  "language_info": {
   "codemirror_mode": {
    "name": "ipython",
    "version": 3
   },
   "file_extension": ".py",
   "mimetype": "text/x-python",
   "name": "python",
   "nbconvert_exporter": "python",
   "pygments_lexer": "ipython3",
   "version": "3.12.4"
  }
 },
 "nbformat": 4,
 "nbformat_minor": 5
}
