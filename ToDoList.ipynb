{
 "cells": [
  {
   "cell_type": "code",
   "execution_count": null,
   "id": "66249121-1daf-48dd-892e-dd6b309c53c8",
   "metadata": {},
   "outputs": [
    {
     "name": "stdout",
     "output_type": "stream",
     "text": [
      "\n",
      "===== To-Do List Manager =====\n",
      "1. Add Task\n",
      "2. view Tasks\n",
      "3. mark Task as Done\n",
      "4. Remove Task\n",
      "5. Quit\n"
     ]
    },
    {
     "name": "stdin",
     "output_type": "stream",
     "text": [
      "Enter your option: 1\n",
      "enter the task: keep you notebook updated\n"
     ]
    },
    {
     "name": "stdout",
     "output_type": "stream",
     "text": [
      "\n",
      "===== To-Do List Manager =====\n",
      "1. Add Task\n",
      "2. view Tasks\n",
      "3. mark Task as Done\n",
      "4. Remove Task\n",
      "5. Quit\n"
     ]
    },
    {
     "name": "stdin",
     "output_type": "stream",
     "text": [
      "Enter your option: 2\n"
     ]
    },
    {
     "name": "stdout",
     "output_type": "stream",
     "text": [
      "1. keep you notebook updated\n",
      "\n",
      "===== To-Do List Manager =====\n",
      "1. Add Task\n",
      "2. view Tasks\n",
      "3. mark Task as Done\n",
      "4. Remove Task\n",
      "5. Quit\n"
     ]
    },
    {
     "name": "stdin",
     "output_type": "stream",
     "text": [
      "Enter your option: 2\n"
     ]
    },
    {
     "name": "stdout",
     "output_type": "stream",
     "text": [
      "1. keep you notebook updated\n",
      "\n",
      "===== To-Do List Manager =====\n",
      "1. Add Task\n",
      "2. view Tasks\n",
      "3. mark Task as Done\n",
      "4. Remove Task\n",
      "5. Quit\n"
     ]
    }
   ],
   "source": [
    "class ToDoList:\n",
    "    def __init__(self):\n",
    "       self.tasks = []\n",
    "    def add_task(self, task):\n",
    "        self.tasks.append(task)\n",
    "    def view_tasks(self):\n",
    "        for i,task in enumerate(self.tasks,start=1):\n",
    "            print(f\"{i}. {task}\")\n",
    "    def mark_task_as_done(self,task_number):\n",
    "        if 1<=task_number<=len(self.tasks):\n",
    "            self.tasks[task_number-1] +=\"(Done)\"\n",
    "        else:\n",
    "            print(\"task number is not correct\")\n",
    "    def remove_task(self,task_number):\n",
    "        if 1 <= task_number <= len(self.tasks):\n",
    "            del self.tasks[task_number - 1]\n",
    "        else:\n",
    "            print(\"task number is not correct\")\n",
    "def main():\n",
    "        todo_list = ToDoList()\n",
    "        while True:\n",
    "            print(\"\\n===== To-Do List Manager =====\")\n",
    "            print(\"1. Add Task\")\n",
    "            print(\"2. view Tasks\")\n",
    "            print(\"3. mark Task as Done\")\n",
    "            print(\"4. Remove Task\")\n",
    "            print(\"5. Quit\")\n",
    "            option = input(\"Enter your option:\")\n",
    "            if  option == \"1\":\n",
    "                task = input(\"enter the task:\")\n",
    "                todo_list.add_task(task)\n",
    "            elif option ==\"2\":\n",
    "                todo_list.view_tasks()\n",
    "            elif option ==\"3\":\n",
    "                task_number = int(intput(\"Enter the task number to mark as done:\"))\n",
    "                todo_list.mark_task_as_done(task_number)\n",
    "            elif option ==\"4\":\n",
    "                task_number = int(input(\"Enter the task number to remove:\"))\n",
    "                todo_list.remove_task(task_number)\n",
    "            elif option == \"5\":\n",
    "                break\n",
    "            else:\n",
    "                print(\"Invalid option. Please try again.\")\n",
    "\n",
    "if __name__ == \"__main__\":\n",
    "     main()\n",
    "            "
   ]
  },
  {
   "cell_type": "code",
   "execution_count": null,
   "id": "7e32b7e6-ec14-4853-96bc-e58ae0315d50",
   "metadata": {},
   "outputs": [],
   "source": []
  },
  {
   "cell_type": "code",
   "execution_count": null,
   "id": "76a48296-82c2-484f-80e1-d29488e71724",
   "metadata": {},
   "outputs": [],
   "source": []
  }
 ],
 "metadata": {
  "kernelspec": {
   "display_name": "Python 3 (ipykernel)",
   "language": "python",
   "name": "python3"
  },
  "language_info": {
   "codemirror_mode": {
    "name": "ipython",
    "version": 3
   },
   "file_extension": ".py",
   "mimetype": "text/x-python",
   "name": "python",
   "nbconvert_exporter": "python",
   "pygments_lexer": "ipython3",
   "version": "3.12.4"
  }
 },
 "nbformat": 4,
 "nbformat_minor": 5
}
